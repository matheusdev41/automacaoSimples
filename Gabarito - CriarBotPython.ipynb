{
 "cells": [
  {
   "cell_type": "markdown",
   "id": "c56b780c",
   "metadata": {},
   "source": [
    "# Criar Bot com Python\n",
    "\n",
    "### Bot no Computador - pyautogui"
   ]
  },
  {
   "cell_type": "code",
   "execution_count": 27,
   "id": "29c87a41",
   "metadata": {},
   "outputs": [],
   "source": [
    "import pyautogui\n",
    "\n",
    "pyautogui.PAUSE = 2\n",
    "\n",
    "# abrir a ferramenta/o sistema/o programa\n",
    "pyautogui.press(\"win\")\n",
    "pyautogui.write(\"login.xlsx\")\n",
    "pyautogui.press(\"backspace\")\n",
    "pyautogui.press(\"enter\")\n",
    "\n",
    "# preencher o login\n",
    "pyautogui.click(x=500, y=186)\n",
    "pyautogui.write(\"lira\")\n",
    "\n",
    "# preencher a senha\n",
    "pyautogui.click(x=511, y=225)\n",
    "pyautogui.write(\"senha\")\n",
    "\n",
    "# clicar em fazer login\n",
    "pyautogui.click(x=491, y=347)"
   ]
  },
  {
   "cell_type": "code",
   "execution_count": 26,
   "id": "40f52edf",
   "metadata": {},
   "outputs": [
    {
     "data": {
      "text/plain": [
       "Point(x=491, y=347)"
      ]
     },
     "execution_count": 26,
     "metadata": {},
     "output_type": "execute_result"
    }
   ],
   "source": [
    "import time\n",
    "\n",
    "time.sleep(3)\n",
    "pyautogui.position()"
   ]
  },
  {
   "cell_type": "markdown",
   "id": "d54af9d3",
   "metadata": {},
   "source": [
    "### Bot na Internet - Selenium"
   ]
  },
  {
   "cell_type": "code",
   "execution_count": 32,
   "id": "836a35cd",
   "metadata": {},
   "outputs": [],
   "source": [
    "# chrome -> chromedriver\n",
    "# firefox -> geckodriver\n",
    "from selenium import webdriver\n",
    "import time\n",
    "\n",
    "navegador = webdriver.Chrome()\n",
    "navegador.get(\"https://login.live.com/\")\n",
    "time.sleep(1)\n",
    "navegador.find_element_by_xpath('//*[@id=\"i0116\"]').send_keys(\"pythonimpressionador@outlook.com\")\n",
    "navegador.find_element_by_xpath('//*[@id=\"idSIButton9\"]').click()\n",
    "\n",
    "time.sleep(1)\n",
    "\n",
    "navegador.find_element_by_xpath('//*[@id=\"i0118\"]').send_keys(\"Python123123\")\n",
    "navegador.find_element_by_xpath('//*[@id=\"idSIButton9\"]').click()"
   ]
  },
  {
   "cell_type": "code",
   "execution_count": null,
   "id": "d62d6ca0",
   "metadata": {},
   "outputs": [],
   "source": []
  }
 ],
 "metadata": {
  "kernelspec": {
   "display_name": "Python 3",
   "language": "python",
   "name": "python3"
  },
  "language_info": {
   "codemirror_mode": {
    "name": "ipython",
    "version": 3
   },
   "file_extension": ".py",
   "mimetype": "text/x-python",
   "name": "python",
   "nbconvert_exporter": "python",
   "pygments_lexer": "ipython3",
   "version": "3.8.8"
  }
 },
 "nbformat": 4,
 "nbformat_minor": 5
}
